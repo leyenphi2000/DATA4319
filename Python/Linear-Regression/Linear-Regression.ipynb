{
 "cells": [
  {
   "cell_type": "markdown",
   "id": "ba21e689",
   "metadata": {},
   "source": [
    "# Project - Linear Regression\n",
    "## Phi Le\n",
    "### DATA - 4319\n",
    "### FALL 2021"
   ]
  },
  {
   "cell_type": "markdown",
   "id": "597d6a5d",
   "metadata": {},
   "source": [
    "![](https://i2.wp.com/techvidvan.com/tutorials/wp-content/uploads/sites/2/2020/03/linear-regressions.jpg?ssl=1)"
   ]
  },
  {
   "cell_type": "markdown",
   "id": "82afad41",
   "metadata": {},
   "source": [
    "Linear regression method is used for predicting the value of the dependent variable by using the values of the independent variable.\n",
    "\n",
    "The linear regression model is suitable for predicting the value of a continuous quantity.\n",
    "\n",
    "OR\n",
    "\n",
    "The linear regression model represents the relationship between the input variables (x) and the output variable (y) of a dataset in terms of a line given by the equation,\n",
    "\n",
    "![](https://www.alpharithms.com/wp-content/uploads/1156/slope-intercept-vs-linear-regression-equations.jpg)\n",
    "\n",
    "$$\n",
    "y = b_0 + b_1x\n",
    "$$\n",
    "\n",
    "Where,\n",
    "\n",
    "- y is the dependent variable whose value we want to predict.\n",
    "- x is the independent variable whose values are used for predicting the dependent variable.\n",
    "- $b_0$ and $b_1$ are constants in which b0 is the Y-intercept and b1 is the slope.\n",
    "\n",
    "The main aim of this method is to find the value of $b_0$ and $b_1$ to find the best fit line that will be covering or will be nearest to most of the data points."
   ]
  },
  {
   "cell_type": "markdown",
   "id": "4e7d2d7a",
   "metadata": {},
   "source": [
    "### Project Example"
   ]
  },
  {
   "cell_type": "markdown",
   "id": "a7045d5f",
   "metadata": {},
   "source": [
    "$\\textbf{Step 1: Import packages and classes}$\n",
    "\n",
    "The first step is to import the package numpy and the class LinearRegression from sklearn.linear_model:"
   ]
  },
  {
   "cell_type": "code",
   "execution_count": 1,
   "id": "722f98e9",
   "metadata": {},
   "outputs": [],
   "source": [
    "import numpy as np\n",
    "from sklearn.linear_model import LinearRegression"
   ]
  },
  {
   "cell_type": "markdown",
   "id": "7e539a31",
   "metadata": {},
   "source": [
    "$\\textbf{Step 2: Provide data}$\n",
    "\n",
    "The second step is defining data to work with. The inputs (regressors, 𝑥) and output (predictor, 𝑦) should be arrays (the instances of the class numpy.ndarray) or similar objects. This is the simplest way of providing data for regression:"
   ]
  },
  {
   "cell_type": "code",
   "execution_count": 2,
   "id": "360119d4",
   "metadata": {},
   "outputs": [],
   "source": [
    "x = np.array([5, 15, 25, 35, 45, 55]).reshape((-1, 1))\n",
    "y = np.array([5, 20, 14, 32, 22, 38])"
   ]
  },
  {
   "cell_type": "code",
   "execution_count": 3,
   "id": "633fff9f",
   "metadata": {},
   "outputs": [
    {
     "name": "stdout",
     "output_type": "stream",
     "text": [
      "[[ 5]\n",
      " [15]\n",
      " [25]\n",
      " [35]\n",
      " [45]\n",
      " [55]]\n",
      "[ 5 20 14 32 22 38]\n"
     ]
    }
   ],
   "source": [
    "print(x)\n",
    "print(y)"
   ]
  },
  {
   "cell_type": "markdown",
   "id": "28a32466",
   "metadata": {},
   "source": [
    "$\\textbf{Step 3: Create a model and fit it}$\n",
    "\n",
    "The next step is to create a linear regression model and fit it using the existing data."
   ]
  },
  {
   "cell_type": "code",
   "execution_count": 4,
   "id": "6bf4eb42",
   "metadata": {},
   "outputs": [],
   "source": [
    "model = LinearRegression()"
   ]
  },
  {
   "cell_type": "code",
   "execution_count": 5,
   "id": "fc70dd99",
   "metadata": {},
   "outputs": [
    {
     "data": {
      "text/plain": [
       "LinearRegression()"
      ]
     },
     "execution_count": 5,
     "metadata": {},
     "output_type": "execute_result"
    }
   ],
   "source": [
    "model.fit(x, y)"
   ]
  },
  {
   "cell_type": "code",
   "execution_count": 6,
   "id": "a035b90a",
   "metadata": {},
   "outputs": [],
   "source": [
    "model = LinearRegression().fit(x, y)"
   ]
  },
  {
   "cell_type": "markdown",
   "id": "b0ff4fde",
   "metadata": {},
   "source": [
    "$\\textbf{Step 4: Get results}$\n",
    "\n",
    "Once you have your model fitted, you can get the results to check whether the model works satisfactorily and interpret it.\n",
    "\n",
    "You can obtain the coefficient of determination ($𝑅^2$) with .score() called on model:"
   ]
  },
  {
   "cell_type": "code",
   "execution_count": 7,
   "id": "29cbea65",
   "metadata": {},
   "outputs": [
    {
     "name": "stdout",
     "output_type": "stream",
     "text": [
      "coefficient of determination: 0.715875613747954\n"
     ]
    }
   ],
   "source": [
    "r_sq = model.score(x, y)\n",
    "print('coefficient of determination:', r_sq)"
   ]
  },
  {
   "cell_type": "code",
   "execution_count": 8,
   "id": "89c7110e",
   "metadata": {},
   "outputs": [
    {
     "name": "stdout",
     "output_type": "stream",
     "text": [
      "intercept: 5.633333333333329\n",
      "slope: [0.54]\n"
     ]
    }
   ],
   "source": [
    "print('intercept:', model.intercept_)\n",
    "print('slope:', model.coef_)"
   ]
  },
  {
   "cell_type": "code",
   "execution_count": 9,
   "id": "4c600400",
   "metadata": {},
   "outputs": [
    {
     "name": "stdout",
     "output_type": "stream",
     "text": [
      "intercept: [5.63333333]\n",
      "slope: [[0.54]]\n"
     ]
    }
   ],
   "source": [
    "new_model = LinearRegression().fit(x, y.reshape((-1, 1)))\n",
    "print('intercept:', new_model.intercept_)\n",
    "print('slope:', new_model.coef_)"
   ]
  },
  {
   "cell_type": "markdown",
   "id": "965be8e9",
   "metadata": {},
   "source": [
    "$\\textbf{Step 5: Predict response}$\n",
    "\n",
    "Once there is a satisfactory model, you can use it for predictions with either existing or new data.\n",
    "\n",
    "To obtain the predicted response, use .predict():"
   ]
  },
  {
   "cell_type": "code",
   "execution_count": 10,
   "id": "e86be496",
   "metadata": {},
   "outputs": [
    {
     "name": "stdout",
     "output_type": "stream",
     "text": [
      "predicted response:\n",
      "[ 8.33333333 13.73333333 19.13333333 24.53333333 29.93333333 35.33333333]\n"
     ]
    }
   ],
   "source": [
    "y_pred = model.predict(x)\n",
    "print('predicted response:', y_pred, sep='\\n')"
   ]
  },
  {
   "cell_type": "code",
   "execution_count": 11,
   "id": "c0d2f8bb",
   "metadata": {},
   "outputs": [
    {
     "name": "stdout",
     "output_type": "stream",
     "text": [
      "[[0]\n",
      " [1]\n",
      " [2]\n",
      " [3]\n",
      " [4]]\n",
      "[5.63333333 6.17333333 6.71333333 7.25333333 7.79333333]\n"
     ]
    }
   ],
   "source": [
    "x_new = np.arange(5).reshape((-1, 1))\n",
    "print(x_new)\n",
    "\n",
    "y_new = model.predict(x_new)\n",
    "print(y_new)"
   ]
  },
  {
   "cell_type": "markdown",
   "id": "5a7c6764",
   "metadata": {},
   "source": [
    "Here .predict() is applied to the new regressor x_new and yields the response y_new. This example conveniently uses arange() from numpy to generate an array with the elements from 0 (inclusive) to 5 (exclusive), that is 0, 1, 2, 3, and 4.\n",
    "https://realpython.com/linear-regression-in-python/"
   ]
  },
  {
   "cell_type": "code",
   "execution_count": null,
   "id": "a8fef5c7",
   "metadata": {},
   "outputs": [],
   "source": []
  }
 ],
 "metadata": {
  "kernelspec": {
   "display_name": "Python 3",
   "language": "python",
   "name": "python3"
  },
  "language_info": {
   "codemirror_mode": {
    "name": "ipython",
    "version": 3
   },
   "file_extension": ".py",
   "mimetype": "text/x-python",
   "name": "python",
   "nbconvert_exporter": "python",
   "pygments_lexer": "ipython3",
   "version": "3.8.8"
  }
 },
 "nbformat": 4,
 "nbformat_minor": 5
}
